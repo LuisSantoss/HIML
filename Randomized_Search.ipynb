{
 "cells": [
  {
   "cell_type": "code",
   "execution_count": 1,
   "metadata": {},
   "outputs": [
    {
     "name": "stdout",
     "output_type": "stream",
     "text": [
      "Original shape: (850, 124)\n",
      "Reduced shape: (850, 7)\n"
     ]
    }
   ],
   "source": [
    "import pandas as pd\n",
    "import numpy as np \n",
    "import scipy.io as sio \n",
    "import matplotlib.pyplot as plt \n",
    "from os import getcwd\n",
    "from os.path import join \n",
    "from statsmodels.tsa.ar_model import AutoReg\n",
    "from sklearn.decomposition import PCA\n",
    "from sklearn.preprocessing import StandardScaler\n",
    "from sklearn.pipeline import Pipeline\n",
    "from sklearn.model_selection import train_test_split\n",
    "from sklearn import linear_model\n",
    "from sklearn.metrics import confusion_matrix, accuracy_score \n",
    "\n",
    "\n",
    "mat_contents = sio.loadmat('data3SS2009.mat')\n",
    "dataset = mat_contents['dataset']\n",
    "n_samples, n_channels, n_cases = dataset.shape # N, Chno, Nc\n",
    "y = mat_contents['labels'].reshape(n_cases)\n",
    "\n",
    "Ch1 = pd.DataFrame(dataset[:,0,:])\n",
    "Ch2 = pd.DataFrame(dataset[:,1,:])\n",
    "Ch3 = pd.DataFrame(dataset[:,2,:])\n",
    "Ch4 = pd.DataFrame(dataset[:,3,:])\n",
    "Ch5 = pd.DataFrame(dataset[:,4,:])\n",
    "\n",
    "Feat = []\n",
    "lags = 30\n",
    "for i in range(0,n_cases):\n",
    "    ar_model_Ch1 = AutoReg(Ch2[i].values, lags = lags).fit()\n",
    "    ar_model_Ch2 = AutoReg(Ch3[i].values, lags = lags).fit()\n",
    "    ar_model_Ch3 = AutoReg(Ch4[i].values, lags = lags).fit()\n",
    "    ar_model_Ch4 = AutoReg(Ch5[i].values, lags = lags).fit()\n",
    "    ar_models = np.concatenate([ar_model_Ch1.params, ar_model_Ch2.params, ar_model_Ch3.params, ar_model_Ch4.params])\n",
    "    Feat.append(ar_models)\n",
    "\n",
    "\n",
    "pca1 = PCA(n_components = 7) # 7 componentes obtidas da atividade II (95% da variância)\n",
    "pca1.fit(Feat)\n",
    "x_pca = pca1.transform(Feat)\n",
    "print(\"Original shape: {}\".format(str(np.shape(Feat))))\n",
    "print(\"Reduced shape: {}\".format(str(np.shape(x_pca))))"
   ]
  },
  {
   "cell_type": "code",
   "execution_count": 137,
   "metadata": {},
   "outputs": [],
   "source": [
    "min_max_scaler = StandardScaler()\n",
    "Feat_scaled = min_max_scaler.fit_transform(x_pca)\n",
    "Y = mat_contents['labels'].reshape(n_cases)"
   ]
  },
  {
   "cell_type": "markdown",
   "metadata": {},
   "source": [
    "## Atividade -> Supervisionado 4"
   ]
  },
  {
   "cell_type": "markdown",
   "metadata": {},
   "source": [
    "Use randomized search with repeated cross-validation for hyperparameter\n",
    "tuning. Use e.g. \n",
    "\n",
    "a) n_splits = 5, n_repeats = 50 [RepeatedKFold]\n",
    "\n",
    "b) n_iter = 100, n_jobs = -1 (will use all your cores), cv = (object you created with\n",
    "RepeatedKFold in 2.A), scoring = (choose a performance metric for classification\n",
    "problems), [RandomizedSearchCV]"
   ]
  },
  {
   "cell_type": "markdown",
   "metadata": {},
   "source": [
    "1. To linearSVC optimized params:"
   ]
  },
  {
   "cell_type": "code",
   "execution_count": 152,
   "metadata": {},
   "outputs": [
    {
     "name": "stderr",
     "output_type": "stream",
     "text": [
      "C:\\python39\\lib\\site-packages\\sklearn\\model_selection\\_search.py:292: UserWarning: The total space of parameters 50 is smaller than n_iter=100. Running 50 iterations. For exhaustive searches, use GridSearchCV.\n",
      "  warnings.warn(\n",
      "C:\\python39\\lib\\site-packages\\sklearn\\model_selection\\_validation.py:372: FitFailedWarning: \n",
      "6500 fits failed out of a total of 12500.\n",
      "The score on these train-test partitions for these parameters will be set to nan.\n",
      "If these failures are not expected, you can try to debug them by setting error_score='raise'.\n",
      "\n",
      "Below are more details about the failures:\n",
      "--------------------------------------------------------------------------------\n",
      "250 fits failed with the following error:\n",
      "Traceback (most recent call last):\n",
      "  File \"C:\\python39\\lib\\site-packages\\sklearn\\model_selection\\_validation.py\", line 680, in _fit_and_score\n",
      "    estimator.fit(X_train, y_train, **fit_params)\n",
      "  File \"C:\\python39\\lib\\site-packages\\sklearn\\svm\\_classes.py\", line 257, in fit\n",
      "    self.coef_, self.intercept_, self.n_iter_ = _fit_liblinear(\n",
      "  File \"C:\\python39\\lib\\site-packages\\sklearn\\svm\\_base.py\", line 1186, in _fit_liblinear\n",
      "    raw_coef_, n_iter_ = liblinear.train_wrap(\n",
      "  File \"sklearn\\svm\\_liblinear.pyx\", line 52, in sklearn.svm._liblinear.train_wrap\n",
      "ValueError: b'C <= 0'\n",
      "\n",
      "--------------------------------------------------------------------------------\n",
      "6250 fits failed with the following error:\n",
      "Traceback (most recent call last):\n",
      "  File \"C:\\python39\\lib\\site-packages\\sklearn\\model_selection\\_validation.py\", line 680, in _fit_and_score\n",
      "    estimator.fit(X_train, y_train, **fit_params)\n",
      "  File \"C:\\python39\\lib\\site-packages\\sklearn\\svm\\_classes.py\", line 257, in fit\n",
      "    self.coef_, self.intercept_, self.n_iter_ = _fit_liblinear(\n",
      "  File \"C:\\python39\\lib\\site-packages\\sklearn\\svm\\_base.py\", line 1185, in _fit_liblinear\n",
      "    solver_type = _get_liblinear_solver_type(multi_class, penalty, loss, dual)\n",
      "  File \"C:\\python39\\lib\\site-packages\\sklearn\\svm\\_base.py\", line 1024, in _get_liblinear_solver_type\n",
      "    raise ValueError(\n",
      "ValueError: Unsupported set of arguments: loss='square_hinge' is not supported, Parameters: penalty='l2', loss='square_hinge', dual=True\n",
      "\n",
      "  warnings.warn(some_fits_failed_message, FitFailedWarning)\n",
      "C:\\python39\\lib\\site-packages\\sklearn\\model_selection\\_search.py:969: UserWarning: One or more of the test scores are non-finite: [        nan         nan -1.622              nan -1.39478431         nan\n",
      " -1.36039216         nan -1.27592157         nan -1.21533333         nan\n",
      " -1.1774902          nan -1.17070588         nan -1.19039216         nan\n",
      " -1.19262745         nan -1.2065098          nan -1.22831373         nan\n",
      " -1.24972549         nan -1.25211765         nan -1.23913725         nan\n",
      " -1.24007843         nan -1.29756863         nan -1.28909804         nan\n",
      " -1.2852549          nan -1.32541176         nan -1.36211765         nan\n",
      " -1.40368627         nan -1.36               nan -1.42423529         nan\n",
      " -1.42960784         nan]\n",
      "  warnings.warn(\n",
      "C:\\python39\\lib\\site-packages\\sklearn\\svm\\_base.py:1206: ConvergenceWarning: Liblinear failed to converge, increase the number of iterations.\n",
      "  warnings.warn(\n"
     ]
    }
   ],
   "source": [
    "from sklearn.svm import LinearSVC\n",
    "from sklearn.model_selection import RandomizedSearchCV\n",
    "from sklearn.svm import LinearSVC\n",
    "import scipy.stats as stats\n",
    "from sklearn.model_selection import RepeatedKFold\n",
    "\n",
    "x_train, x_test, y_train, y_test = train_test_split(Feat_scaled, Y, test_size = 0.4, random_state = 0)\n",
    "\n",
    "rkf = RepeatedKFold(n_splits = 5, n_repeats = 50, random_state = 42)\n",
    "rkf.split(x_train, y_train)\n",
    "\n",
    "# Randomized Search\n",
    "rand_parameters = [{'C':range(0,25), 'loss':['hinge', 'square_hinge']}]\n",
    "modelo_svc = LinearSVC() \n",
    "random_search_svm = RandomizedSearchCV(modelo_svc, rand_parameters, verbose = 0, n_iter = 100,\n",
    "                                       n_jobs = -1, cv = rkf, scoring = 'neg_mean_squared_error', random_state=42)\n",
    "random_search_svm.fit(x_train, y_train)\n",
    "BPSVC = random_search_svm.best_params_"
   ]
  },
  {
   "cell_type": "markdown",
   "metadata": {},
   "source": [
    "2. To optimize KNN params:"
   ]
  },
  {
   "cell_type": "code",
   "execution_count": 153,
   "metadata": {},
   "outputs": [
    {
     "name": "stderr",
     "output_type": "stream",
     "text": [
      "C:\\python39\\lib\\site-packages\\sklearn\\model_selection\\_validation.py:372: FitFailedWarning: \n",
      "500 fits failed out of a total of 25000.\n",
      "The score on these train-test partitions for these parameters will be set to nan.\n",
      "If these failures are not expected, you can try to debug them by setting error_score='raise'.\n",
      "\n",
      "Below are more details about the failures:\n",
      "--------------------------------------------------------------------------------\n",
      "500 fits failed with the following error:\n",
      "Traceback (most recent call last):\n",
      "  File \"C:\\python39\\lib\\site-packages\\sklearn\\model_selection\\_validation.py\", line 680, in _fit_and_score\n",
      "    estimator.fit(X_train, y_train, **fit_params)\n",
      "  File \"C:\\python39\\lib\\site-packages\\sklearn\\neighbors\\_classification.py\", line 198, in fit\n",
      "    return self._fit(X, y)\n",
      "  File \"C:\\python39\\lib\\site-packages\\sklearn\\neighbors\\_base.py\", line 569, in _fit\n",
      "    raise ValueError(\"Expected n_neighbors > 0. Got %d\" % self.n_neighbors)\n",
      "ValueError: Expected n_neighbors > 0. Got 0\n",
      "\n",
      "  warnings.warn(some_fits_failed_message, FitFailedWarning)\n",
      "C:\\python39\\lib\\site-packages\\sklearn\\model_selection\\_search.py:969: UserWarning: One or more of the test scores are non-finite: [        nan         nan -1.15290196 -1.15290196 -1.33145098 -1.15290196\n",
      " -1.0074902  -1.0087451  -1.04921569 -0.99819608 -0.91294118 -0.95168627\n",
      " -1.03701961 -0.97011765 -0.99231373 -0.96647059 -1.06019608 -1.01019608\n",
      " -1.03992157 -1.00294118 -1.07568627 -1.02662745 -1.10058824 -1.04035294\n",
      " -1.06945098 -1.05913725 -1.1094902  -1.04894118 -1.11258824 -1.06627451\n",
      " -1.16407843 -1.09682353 -1.162      -1.08701961 -1.18168627 -1.09670588\n",
      " -1.18301961 -1.10823529 -1.18619608 -1.09839216 -1.20168627 -1.1154902\n",
      " -1.21168627 -1.12341176 -1.24505882 -1.12886275 -1.27003922 -1.14203922\n",
      " -1.28568627 -1.1634902  -1.32941176 -1.17972549 -1.35756863 -1.2034902\n",
      " -1.38247059 -1.22278431 -1.41341176 -1.2372549  -1.47215686 -1.27517647\n",
      " -1.49317647 -1.31105882 -1.54470588 -1.33631373 -1.55858824 -1.35909804\n",
      " -1.59513725 -1.36878431 -1.62454902 -1.38760784 -1.63364706 -1.40564706\n",
      " -1.67258824 -1.42239216 -1.68886275 -1.42415686 -1.7285098  -1.42717647\n",
      " -1.74466667 -1.43654902 -1.78705882 -1.44192157 -1.81415686 -1.44521569\n",
      " -1.87317647 -1.45105882 -1.91760784 -1.46243137 -1.98811765 -1.46364706\n",
      " -2.03435294 -1.47192157 -2.08698039 -1.4774902  -2.12513725 -1.49011765\n",
      " -2.18313725 -1.49172549 -2.21407843 -1.50713725]\n",
      "  warnings.warn(\n"
     ]
    }
   ],
   "source": [
    "from sklearn.neighbors import KNeighborsClassifier\n",
    "\n",
    "rkf = RepeatedKFold(n_splits = 5, n_repeats = 50, random_state = 42)\n",
    "rkf.split(x_train, y_train)\n",
    "\n",
    "# Randomized Search\n",
    "rand_parameters = [{'n_neighbors':range(0,50), 'weights':['uniform', 'distance']}]\n",
    "modelo_knn = KNeighborsClassifier() \n",
    "random_search_knn = RandomizedSearchCV(modelo_knn, rand_parameters, verbose = 0, n_iter = 100,\n",
    "                                       n_jobs = -1, cv = rkf, scoring = 'neg_mean_squared_error', random_state=42)\n",
    "random_search_knn.fit(x_train, y_train)\n",
    "BP_knn = random_search_knn.best_params_"
   ]
  },
  {
   "cell_type": "markdown",
   "metadata": {},
   "source": [
    "3. Softmax"
   ]
  },
  {
   "cell_type": "code",
   "execution_count": 154,
   "metadata": {},
   "outputs": [
    {
     "name": "stderr",
     "output_type": "stream",
     "text": [
      "C:\\python39\\lib\\site-packages\\sklearn\\model_selection\\_validation.py:372: FitFailedWarning: \n",
      "10750 fits failed out of a total of 25000.\n",
      "The score on these train-test partitions for these parameters will be set to nan.\n",
      "If these failures are not expected, you can try to debug them by setting error_score='raise'.\n",
      "\n",
      "Below are more details about the failures:\n",
      "--------------------------------------------------------------------------------\n",
      "10750 fits failed with the following error:\n",
      "Traceback (most recent call last):\n",
      "  File \"C:\\python39\\lib\\site-packages\\sklearn\\model_selection\\_validation.py\", line 680, in _fit_and_score\n",
      "    estimator.fit(X_train, y_train, **fit_params)\n",
      "  File \"C:\\python39\\lib\\site-packages\\sklearn\\linear_model\\_logistic.py\", line 1461, in fit\n",
      "    solver = _check_solver(self.solver, self.penalty, self.dual)\n",
      "  File \"C:\\python39\\lib\\site-packages\\sklearn\\linear_model\\_logistic.py\", line 447, in _check_solver\n",
      "    raise ValueError(\n",
      "ValueError: Solver lbfgs supports only 'l2' or 'none' penalties, got l1 penalty.\n",
      "\n",
      "  warnings.warn(some_fits_failed_message, FitFailedWarning)\n",
      "C:\\python39\\lib\\site-packages\\sklearn\\model_selection\\_search.py:969: UserWarning: One or more of the test scores are non-finite: [        nan -0.97223529         nan         nan -1.25105882 -0.86811765\n",
      " -0.79862745 -1.27356863 -0.78423529 -7.37776471 -0.97286275         nan\n",
      "         nan         nan -1.                 nan         nan -0.80560784\n",
      " -0.82341176         nan         nan -0.83682353 -0.77933333 -0.8134902\n",
      "         nan -0.93215686         nan -0.80909804 -1.48329412 -0.84858824\n",
      " -0.79941176 -0.84082353 -0.81768627 -1.51478431 -0.79231373 -0.84654902\n",
      " -0.81129412 -0.8732549          nan         nan -0.84941176 -0.82145098\n",
      " -0.86105882         nan         nan         nan -0.77466667 -0.84654902\n",
      "         nan -0.95858824         nan -0.80913725         nan         nan\n",
      " -0.80423529         nan -0.88101961 -0.79941176         nan         nan\n",
      " -1.02305882         nan         nan         nan         nan -1.04388235\n",
      "         nan         nan -0.87654902         nan         nan         nan\n",
      " -0.93137255         nan -0.98835294 -0.80360784 -0.80196078 -0.83729412\n",
      " -0.96933333 -0.78145098 -0.78996078 -0.86105882         nan         nan\n",
      "         nan -0.88262745         nan         nan -1.024              nan\n",
      " -0.87231373 -0.81552941         nan -0.90917647 -0.91019608         nan\n",
      "         nan -0.89698039 -0.82717647 -1.49137255]\n",
      "  warnings.warn(\n"
     ]
    }
   ],
   "source": [
    "from sklearn.linear_model import LogisticRegression\n",
    "from scipy.stats import uniform\n",
    "\n",
    "rkf = RepeatedKFold(n_splits = 5, n_repeats = 50, random_state = 42)\n",
    "rkf.split(x_train, y_train)\n",
    "\n",
    "# Randomized Search\n",
    "rand_parameters = [{'C':uniform(loc = 0, scale = 4), 'penalty':['l1', 'l2']}]\n",
    "modelo_LRCV = LogisticRegression() \n",
    "random_search_LR = RandomizedSearchCV(modelo_LRCV, rand_parameters, verbose = 0, n_iter = 100,\n",
    "                                       n_jobs = -1, cv = rkf, scoring = 'neg_mean_squared_error', random_state=42)\n",
    "random_search_LR.fit(x_train, y_train)\n",
    "BR_LR = random_search_LR.best_params_"
   ]
  },
  {
   "cell_type": "code",
   "execution_count": 165,
   "metadata": {},
   "outputs": [
    {
     "data": {
      "text/html": [
       "<div>\n",
       "<style scoped>\n",
       "    .dataframe tbody tr th:only-of-type {\n",
       "        vertical-align: middle;\n",
       "    }\n",
       "\n",
       "    .dataframe tbody tr th {\n",
       "        vertical-align: top;\n",
       "    }\n",
       "\n",
       "    .dataframe thead th {\n",
       "        text-align: right;\n",
       "    }\n",
       "</style>\n",
       "<table border=\"1\" class=\"dataframe\">\n",
       "  <thead>\n",
       "    <tr style=\"text-align: right;\">\n",
       "      <th></th>\n",
       "      <th>Knn_Best_Params</th>\n",
       "      <th>Knn_Best_Params_Valor</th>\n",
       "      <th>SVC_Best_Params</th>\n",
       "      <th>SVC_Best_Params_Valor</th>\n",
       "      <th>L_Reg_Best_Params</th>\n",
       "      <th>L_Reg_Best_Params_Valor</th>\n",
       "    </tr>\n",
       "  </thead>\n",
       "  <tbody>\n",
       "    <tr>\n",
       "      <th>Paramentro 0</th>\n",
       "      <td>weights</td>\n",
       "      <td>uniform</td>\n",
       "      <td>loss</td>\n",
       "      <td>hinge</td>\n",
       "      <td>C</td>\n",
       "      <td>3.947548</td>\n",
       "    </tr>\n",
       "    <tr>\n",
       "      <th>Paramentro 1</th>\n",
       "      <td>n_neighbors</td>\n",
       "      <td>5</td>\n",
       "      <td>C</td>\n",
       "      <td>7</td>\n",
       "      <td>penalty</td>\n",
       "      <td>l2</td>\n",
       "    </tr>\n",
       "  </tbody>\n",
       "</table>\n",
       "</div>"
      ],
      "text/plain": [
       "             Knn_Best_Params Knn_Best_Params_Valor SVC_Best_Params  \\\n",
       "Paramentro 0         weights               uniform            loss   \n",
       "Paramentro 1     n_neighbors                     5               C   \n",
       "\n",
       "             SVC_Best_Params_Valor L_Reg_Best_Params L_Reg_Best_Params_Valor  \n",
       "Paramentro 0                 hinge                 C                3.947548  \n",
       "Paramentro 1                     7           penalty                      l2  "
      ]
     },
     "execution_count": 165,
     "metadata": {},
     "output_type": "execute_result"
    }
   ],
   "source": [
    "import pandas as pd \n",
    "\n",
    "result = pd.DataFrame(index = ['Paramentro 0','Paramentro 1'])\n",
    "result['Knn_Best_Params'] = BP_knn \n",
    "result['Knn_Best_Params_Valor'] = BP_knn.values()\n",
    "result['SVC_Best_Params'] = BPSVC\n",
    "result['SVC_Best_Params_Valor'] = BPSVC.values()\n",
    "result['L_Reg_Best_Params'] = BR_LR\n",
    "result['L_Reg_Best_Params_Valor'] = BR_LR.values()\n",
    "result.head()"
   ]
  },
  {
   "cell_type": "markdown",
   "metadata": {},
   "source": [
    "### GridSearch"
   ]
  },
  {
   "cell_type": "code",
   "execution_count": 95,
   "metadata": {},
   "outputs": [
    {
     "name": "stderr",
     "output_type": "stream",
     "text": [
      "C:\\python39\\lib\\site-packages\\sklearn\\svm\\_base.py:1206: ConvergenceWarning: Liblinear failed to converge, increase the number of iterations.\n",
      "  warnings.warn(\n",
      "C:\\python39\\lib\\site-packages\\sklearn\\svm\\_base.py:1206: ConvergenceWarning: Liblinear failed to converge, increase the number of iterations.\n",
      "  warnings.warn(\n",
      "C:\\python39\\lib\\site-packages\\sklearn\\svm\\_base.py:1206: ConvergenceWarning: Liblinear failed to converge, increase the number of iterations.\n",
      "  warnings.warn(\n",
      "C:\\python39\\lib\\site-packages\\sklearn\\svm\\_base.py:1206: ConvergenceWarning: Liblinear failed to converge, increase the number of iterations.\n",
      "  warnings.warn(\n",
      "C:\\python39\\lib\\site-packages\\sklearn\\svm\\_base.py:1206: ConvergenceWarning: Liblinear failed to converge, increase the number of iterations.\n",
      "  warnings.warn(\n",
      "C:\\python39\\lib\\site-packages\\sklearn\\svm\\_base.py:1206: ConvergenceWarning: Liblinear failed to converge, increase the number of iterations.\n",
      "  warnings.warn(\n",
      "C:\\python39\\lib\\site-packages\\sklearn\\svm\\_base.py:1206: ConvergenceWarning: Liblinear failed to converge, increase the number of iterations.\n",
      "  warnings.warn(\n",
      "C:\\python39\\lib\\site-packages\\sklearn\\svm\\_base.py:1206: ConvergenceWarning: Liblinear failed to converge, increase the number of iterations.\n",
      "  warnings.warn(\n",
      "C:\\python39\\lib\\site-packages\\sklearn\\svm\\_base.py:1206: ConvergenceWarning: Liblinear failed to converge, increase the number of iterations.\n",
      "  warnings.warn(\n",
      "C:\\python39\\lib\\site-packages\\sklearn\\svm\\_base.py:1206: ConvergenceWarning: Liblinear failed to converge, increase the number of iterations.\n",
      "  warnings.warn(\n",
      "C:\\python39\\lib\\site-packages\\sklearn\\svm\\_base.py:1206: ConvergenceWarning: Liblinear failed to converge, increase the number of iterations.\n",
      "  warnings.warn(\n",
      "C:\\python39\\lib\\site-packages\\sklearn\\svm\\_base.py:1206: ConvergenceWarning: Liblinear failed to converge, increase the number of iterations.\n",
      "  warnings.warn(\n",
      "C:\\python39\\lib\\site-packages\\sklearn\\svm\\_base.py:1206: ConvergenceWarning: Liblinear failed to converge, increase the number of iterations.\n",
      "  warnings.warn(\n",
      "C:\\python39\\lib\\site-packages\\sklearn\\svm\\_base.py:1206: ConvergenceWarning: Liblinear failed to converge, increase the number of iterations.\n",
      "  warnings.warn(\n",
      "C:\\python39\\lib\\site-packages\\sklearn\\svm\\_base.py:1206: ConvergenceWarning: Liblinear failed to converge, increase the number of iterations.\n",
      "  warnings.warn(\n",
      "C:\\python39\\lib\\site-packages\\sklearn\\svm\\_base.py:1206: ConvergenceWarning: Liblinear failed to converge, increase the number of iterations.\n",
      "  warnings.warn(\n",
      "C:\\python39\\lib\\site-packages\\sklearn\\svm\\_base.py:1206: ConvergenceWarning: Liblinear failed to converge, increase the number of iterations.\n",
      "  warnings.warn(\n",
      "C:\\python39\\lib\\site-packages\\sklearn\\svm\\_base.py:1206: ConvergenceWarning: Liblinear failed to converge, increase the number of iterations.\n",
      "  warnings.warn(\n",
      "C:\\python39\\lib\\site-packages\\sklearn\\svm\\_base.py:1206: ConvergenceWarning: Liblinear failed to converge, increase the number of iterations.\n",
      "  warnings.warn(\n",
      "C:\\python39\\lib\\site-packages\\sklearn\\svm\\_base.py:1206: ConvergenceWarning: Liblinear failed to converge, increase the number of iterations.\n",
      "  warnings.warn(\n",
      "C:\\python39\\lib\\site-packages\\sklearn\\svm\\_base.py:1206: ConvergenceWarning: Liblinear failed to converge, increase the number of iterations.\n",
      "  warnings.warn(\n",
      "C:\\python39\\lib\\site-packages\\sklearn\\svm\\_base.py:1206: ConvergenceWarning: Liblinear failed to converge, increase the number of iterations.\n",
      "  warnings.warn(\n",
      "C:\\python39\\lib\\site-packages\\sklearn\\svm\\_base.py:1206: ConvergenceWarning: Liblinear failed to converge, increase the number of iterations.\n",
      "  warnings.warn(\n",
      "C:\\python39\\lib\\site-packages\\sklearn\\svm\\_base.py:1206: ConvergenceWarning: Liblinear failed to converge, increase the number of iterations.\n",
      "  warnings.warn(\n",
      "C:\\python39\\lib\\site-packages\\sklearn\\svm\\_base.py:1206: ConvergenceWarning: Liblinear failed to converge, increase the number of iterations.\n",
      "  warnings.warn(\n",
      "C:\\python39\\lib\\site-packages\\sklearn\\svm\\_base.py:1206: ConvergenceWarning: Liblinear failed to converge, increase the number of iterations.\n",
      "  warnings.warn(\n",
      "C:\\python39\\lib\\site-packages\\sklearn\\svm\\_base.py:1206: ConvergenceWarning: Liblinear failed to converge, increase the number of iterations.\n",
      "  warnings.warn(\n",
      "C:\\python39\\lib\\site-packages\\sklearn\\svm\\_base.py:1206: ConvergenceWarning: Liblinear failed to converge, increase the number of iterations.\n",
      "  warnings.warn(\n",
      "C:\\python39\\lib\\site-packages\\sklearn\\svm\\_base.py:1206: ConvergenceWarning: Liblinear failed to converge, increase the number of iterations.\n",
      "  warnings.warn(\n",
      "C:\\python39\\lib\\site-packages\\sklearn\\svm\\_base.py:1206: ConvergenceWarning: Liblinear failed to converge, increase the number of iterations.\n",
      "  warnings.warn(\n",
      "C:\\python39\\lib\\site-packages\\sklearn\\svm\\_base.py:1206: ConvergenceWarning: Liblinear failed to converge, increase the number of iterations.\n",
      "  warnings.warn(\n",
      "C:\\python39\\lib\\site-packages\\sklearn\\svm\\_base.py:1206: ConvergenceWarning: Liblinear failed to converge, increase the number of iterations.\n",
      "  warnings.warn(\n",
      "C:\\python39\\lib\\site-packages\\sklearn\\svm\\_base.py:1206: ConvergenceWarning: Liblinear failed to converge, increase the number of iterations.\n",
      "  warnings.warn(\n",
      "C:\\python39\\lib\\site-packages\\sklearn\\svm\\_base.py:1206: ConvergenceWarning: Liblinear failed to converge, increase the number of iterations.\n",
      "  warnings.warn(\n",
      "C:\\python39\\lib\\site-packages\\sklearn\\svm\\_base.py:1206: ConvergenceWarning: Liblinear failed to converge, increase the number of iterations.\n",
      "  warnings.warn(\n",
      "C:\\python39\\lib\\site-packages\\sklearn\\svm\\_base.py:1206: ConvergenceWarning: Liblinear failed to converge, increase the number of iterations.\n",
      "  warnings.warn(\n",
      "C:\\python39\\lib\\site-packages\\sklearn\\svm\\_base.py:1206: ConvergenceWarning: Liblinear failed to converge, increase the number of iterations.\n",
      "  warnings.warn(\n",
      "C:\\python39\\lib\\site-packages\\sklearn\\svm\\_base.py:1206: ConvergenceWarning: Liblinear failed to converge, increase the number of iterations.\n",
      "  warnings.warn(\n",
      "C:\\python39\\lib\\site-packages\\sklearn\\svm\\_base.py:1206: ConvergenceWarning: Liblinear failed to converge, increase the number of iterations.\n",
      "  warnings.warn(\n",
      "C:\\python39\\lib\\site-packages\\sklearn\\svm\\_base.py:1206: ConvergenceWarning: Liblinear failed to converge, increase the number of iterations.\n",
      "  warnings.warn(\n",
      "C:\\python39\\lib\\site-packages\\sklearn\\svm\\_base.py:1206: ConvergenceWarning: Liblinear failed to converge, increase the number of iterations.\n",
      "  warnings.warn(\n"
     ]
    },
    {
     "data": {
      "text/plain": [
       "{'C': 5, 'loss': 'squared_hinge'}"
      ]
     },
     "execution_count": 95,
     "metadata": {},
     "output_type": "execute_result"
    }
   ],
   "source": [
    "from sklearn.model_selection import GridSearchCV\n",
    "from sklearn.svm import LinearSVC\n",
    "import scipy.stats as stats\n",
    "\n",
    "modelo_tot = LinearSVC() #C = i, loss = 'hinge'\n",
    "\n",
    "rand_par = [{'C':[5,25,50,100],'loss':['hinge','squared_hinge']} ]\n",
    "random_search = GridSearchCV(modelo_tot, rand_par)\n",
    "\n",
    "random_search.fit(x_train, y_train)\n",
    "\n",
    "random_search.best_params_"
   ]
  }
 ],
 "metadata": {
  "interpreter": {
   "hash": "e2a7c3d20469dda411fd3211f02092a920078d1ca97c72d3dc7928b841d3a44a"
  },
  "kernelspec": {
   "display_name": "Python 3.9.10 64-bit",
   "language": "python",
   "name": "python3"
  },
  "language_info": {
   "codemirror_mode": {
    "name": "ipython",
    "version": 3
   },
   "file_extension": ".py",
   "mimetype": "text/x-python",
   "name": "python",
   "nbconvert_exporter": "python",
   "pygments_lexer": "ipython3",
   "version": "3.9.10"
  },
  "orig_nbformat": 4
 },
 "nbformat": 4,
 "nbformat_minor": 2
}
