{
 "cells": [
  {
   "cell_type": "code",
   "execution_count": 1,
   "metadata": {},
   "outputs": [
    {
     "ename": "ModuleNotFoundError",
     "evalue": "No module named 'tsfresh'",
     "output_type": "error",
     "traceback": [
      "\u001b[1;31m---------------------------------------------------------------------------\u001b[0m",
      "\u001b[1;31mModuleNotFoundError\u001b[0m                       Traceback (most recent call last)",
      "\u001b[1;32mC:\\Users\\LUISSA~1\\AppData\\Local\\Temp/ipykernel_16844/3455565688.py\u001b[0m in \u001b[0;36m<module>\u001b[1;34m\u001b[0m\n\u001b[0;32m      3\u001b[0m \u001b[1;32mimport\u001b[0m \u001b[0mnumpy\u001b[0m \u001b[1;32mas\u001b[0m \u001b[0mnp\u001b[0m\u001b[1;33m\u001b[0m\u001b[1;33m\u001b[0m\u001b[0m\n\u001b[0;32m      4\u001b[0m \u001b[1;32mimport\u001b[0m \u001b[0mglob\u001b[0m\u001b[1;33m\u001b[0m\u001b[1;33m\u001b[0m\u001b[0m\n\u001b[1;32m----> 5\u001b[1;33m \u001b[1;32mfrom\u001b[0m \u001b[0mtsfresh\u001b[0m\u001b[1;33m.\u001b[0m\u001b[0mfeature_extraction\u001b[0m \u001b[1;32mimport\u001b[0m \u001b[0mextract_features\u001b[0m\u001b[1;33m\u001b[0m\u001b[1;33m\u001b[0m\u001b[0m\n\u001b[0m\u001b[0;32m      6\u001b[0m \u001b[1;32mfrom\u001b[0m \u001b[0mtsfresh\u001b[0m\u001b[1;33m.\u001b[0m\u001b[0mutilities\u001b[0m\u001b[1;33m.\u001b[0m\u001b[0mdataframe_functions\u001b[0m \u001b[1;32mimport\u001b[0m \u001b[0mimpute\u001b[0m\u001b[1;33m\u001b[0m\u001b[1;33m\u001b[0m\u001b[0m\n\u001b[0;32m      7\u001b[0m \u001b[1;32mfrom\u001b[0m \u001b[0mtsfresh\u001b[0m\u001b[1;33m.\u001b[0m\u001b[0mfeature_extraction\u001b[0m \u001b[1;32mimport\u001b[0m \u001b[0mMinimalFCParameters\u001b[0m\u001b[1;33m\u001b[0m\u001b[1;33m\u001b[0m\u001b[0m\n",
      "\u001b[1;31mModuleNotFoundError\u001b[0m: No module named 'tsfresh'"
     ]
    }
   ],
   "source": [
    "import pandas as pd \n",
    "import matplotlib.pyplot as plt \n",
    "import numpy as np \n",
    "import glob\n",
    "from tsfresh.feature_extraction import extract_features\n",
    "from tsfresh.utilities.dataframe_functions import impute\n",
    "from tsfresh.feature_extraction import MinimalFCParameters"
   ]
  },
  {
   "cell_type": "markdown",
   "metadata": {},
   "source": [
    "## 1. Leitura e tratamento de dados de entrada - Falhas:"
   ]
  },
  {
   "cell_type": "code",
   "execution_count": 43,
   "metadata": {},
   "outputs": [],
   "source": [
    "path = r'3W\\4' # use your path 3W\\4\n",
    "all_files = glob.glob(path + \"/*.csv\")\n",
    "\n",
    "li = {}\n",
    "le = {}\n",
    "c = 0\n",
    "\n",
    "for filename in all_files:\n",
    "    df = pd.read_csv(filename, index_col=None, header = 0)\n",
    "    li[c] = df.drop(columns = ['timestamp','QGL','T-JUS-CKGL','P-JUS-CKGL'])\n",
    "    word = \"WELL-\"\n",
    "    start_index=filename.index(word)\n",
    "    wellNo= filename[start_index+5:start_index+10]\n",
    "    df['id'] = wellNo\n",
    "    df['id'] = pd.to_numeric(df['id'])\n",
    "    df.head\n",
    "    le[c] = df.drop(columns = ['QGL','T-JUS-CKGL','P-JUS-CKGL'])\n",
    "    c += 1\n",
    "    \n",
    "    \n",
    "frame = pd.concat(li, axis=0, ignore_index=True)\n",
    "frame_wTime = pd.concat(le, axis=0, ignore_index=True)"
   ]
  },
  {
   "cell_type": "code",
   "execution_count": 32,
   "metadata": {},
   "outputs": [
    {
     "data": {
      "text/html": [
       "<div>\n",
       "<style scoped>\n",
       "    .dataframe tbody tr th:only-of-type {\n",
       "        vertical-align: middle;\n",
       "    }\n",
       "\n",
       "    .dataframe tbody tr th {\n",
       "        vertical-align: top;\n",
       "    }\n",
       "\n",
       "    .dataframe thead th {\n",
       "        text-align: right;\n",
       "    }\n",
       "</style>\n",
       "<table border=\"1\" class=\"dataframe\">\n",
       "  <thead>\n",
       "    <tr style=\"text-align: right;\">\n",
       "      <th></th>\n",
       "      <th>timestamp</th>\n",
       "      <th>P-PDG</th>\n",
       "      <th>P-TPT</th>\n",
       "      <th>T-TPT</th>\n",
       "      <th>P-MON-CKP</th>\n",
       "      <th>T-JUS-CKP</th>\n",
       "      <th>class</th>\n",
       "      <th>id</th>\n",
       "    </tr>\n",
       "  </thead>\n",
       "  <tbody>\n",
       "    <tr>\n",
       "      <th>0</th>\n",
       "      <td>2017-03-16 12:02:03</td>\n",
       "      <td>38265830.0</td>\n",
       "      <td>13654450.0</td>\n",
       "      <td>117.1953</td>\n",
       "      <td>6029680.0</td>\n",
       "      <td>68.64587</td>\n",
       "      <td>4</td>\n",
       "      <td>1</td>\n",
       "    </tr>\n",
       "    <tr>\n",
       "      <th>1</th>\n",
       "      <td>2017-03-16 12:02:04</td>\n",
       "      <td>38265830.0</td>\n",
       "      <td>13654520.0</td>\n",
       "      <td>117.1947</td>\n",
       "      <td>6030228.0</td>\n",
       "      <td>68.64333</td>\n",
       "      <td>4</td>\n",
       "      <td>1</td>\n",
       "    </tr>\n",
       "    <tr>\n",
       "      <th>2</th>\n",
       "      <td>2017-03-16 12:02:05</td>\n",
       "      <td>38265830.0</td>\n",
       "      <td>13654580.0</td>\n",
       "      <td>117.1942</td>\n",
       "      <td>6030777.0</td>\n",
       "      <td>68.64080</td>\n",
       "      <td>4</td>\n",
       "      <td>1</td>\n",
       "    </tr>\n",
       "    <tr>\n",
       "      <th>3</th>\n",
       "      <td>2017-03-16 12:02:06</td>\n",
       "      <td>38265830.0</td>\n",
       "      <td>13654650.0</td>\n",
       "      <td>117.1937</td>\n",
       "      <td>6031326.0</td>\n",
       "      <td>68.63827</td>\n",
       "      <td>4</td>\n",
       "      <td>1</td>\n",
       "    </tr>\n",
       "    <tr>\n",
       "      <th>4</th>\n",
       "      <td>2017-03-16 12:02:07</td>\n",
       "      <td>38265830.0</td>\n",
       "      <td>13654710.0</td>\n",
       "      <td>117.1932</td>\n",
       "      <td>6031875.0</td>\n",
       "      <td>68.63573</td>\n",
       "      <td>4</td>\n",
       "      <td>1</td>\n",
       "    </tr>\n",
       "  </tbody>\n",
       "</table>\n",
       "</div>"
      ],
      "text/plain": [
       "            timestamp       P-PDG       P-TPT     T-TPT  P-MON-CKP  T-JUS-CKP  \\\n",
       "0 2017-03-16 12:02:03  38265830.0  13654450.0  117.1953  6029680.0   68.64587   \n",
       "1 2017-03-16 12:02:04  38265830.0  13654520.0  117.1947  6030228.0   68.64333   \n",
       "2 2017-03-16 12:02:05  38265830.0  13654580.0  117.1942  6030777.0   68.64080   \n",
       "3 2017-03-16 12:02:06  38265830.0  13654650.0  117.1937  6031326.0   68.63827   \n",
       "4 2017-03-16 12:02:07  38265830.0  13654710.0  117.1932  6031875.0   68.63573   \n",
       "\n",
       "   class  id  \n",
       "0      4   1  \n",
       "1      4   1  \n",
       "2      4   1  \n",
       "3      4   1  \n",
       "4      4   1  "
      ]
     },
     "execution_count": 32,
     "metadata": {},
     "output_type": "execute_result"
    }
   ],
   "source": [
    "frame_wTime['timestamp'] = pd.to_datetime(frame_wTime['timestamp'])"
   ]
  },
  {
   "cell_type": "code",
   "execution_count": 44,
   "metadata": {},
   "outputs": [],
   "source": [
    "from statsmodels.tsa.ar_model import AutoReg"
   ]
  },
  {
   "cell_type": "code",
   "execution_count": null,
   "metadata": {},
   "outputs": [],
   "source": [
    "pd.value_counts(pd.isnull(frame[frame.columns[5]]) == True)"
   ]
  },
  {
   "cell_type": "code",
   "execution_count": 45,
   "metadata": {},
   "outputs": [],
   "source": [
    "dados = li # dicionário \n",
    "Feat = []\n",
    "lags = 30\n",
    "for i in range(0, 149):\n",
    "# for i in range(0, 2):\n",
    "    ch = dados[i]\n",
    "    chss = []\n",
    "    ch1 = AutoReg(ch[ch.columns[0]].values,lags = lags).fit()\n",
    "    ch2 = AutoReg(ch[ch.columns[1]].values,lags = lags).fit()\n",
    "    ch3 = AutoReg(ch[ch.columns[2]].values,lags = lags).fit()\n",
    "    ch4 = AutoReg(ch[ch.columns[3]].values,lags = lags).fit()\n",
    "    # ch5 = AutoReg(ch[ch.columns[4]].values,lags = lags).fit()\n",
    "    # ch6 = AutoReg(ch[ch.columns[5]].values,lags = lags).fit()        \n",
    "    ar_models = np.concatenate([ch1.params, ch2.params, ch3.params,\n",
    "                                ch4.params])#, ch5.params ch6.params])\n",
    "    Feat.append(ar_models)\n",
    "    \n",
    "# Só foi até o 149 -> apareceu nan's!!! \n",
    "# Talvez fazer um modelo de para completar dados faltantes!!!"
   ]
  },
  {
   "cell_type": "code",
   "execution_count": 46,
   "metadata": {},
   "outputs": [
    {
     "data": {
      "text/plain": [
       "Text(0.5, 0, 'n_components')"
      ]
     },
     "execution_count": 46,
     "metadata": {},
     "output_type": "execute_result"
    },
    {
     "data": {
      "image/png": "[encoded data removed]",
      "text/plain": [
       "<Figure size 432x432 with 1 Axes>"
      ]
     },
     "metadata": {
      "needs_background": "light"
     },
     "output_type": "display_data"
    }
   ],
   "source": [
    "from sklearn.decomposition import PCA\n",
    "\n",
    "pca = PCA()\n",
    "pca.fit(Feat)\n",
    "\n",
    "# Plot the PCA spectrum\n",
    "fig, ax0 = plt.subplots(nrows=1, sharex=True, figsize=(6, 6))\n",
    "\n",
    "ax0.plot(\n",
    "    np.arange(1, pca.n_components_ + 1), pca.explained_variance_ratio_, \".\", linewidth=2\n",
    ")\n",
    "ax0.set_ylabel(\"PCA explained variance ratio\")\n",
    "ax0.set_xlabel(\"n_components\")"
   ]
  },
  {
   "cell_type": "code",
   "execution_count": 8,
   "metadata": {},
   "outputs": [
    {
     "data": {
      "text/plain": [
       "(149, 3)"
      ]
     },
     "execution_count": 8,
     "metadata": {},
     "output_type": "execute_result"
    }
   ],
   "source": [
    "pca = PCA(n_components = 0.99)\n",
    "Feat_reduced_falt = pca.fit_transform(Feat)\n",
    "Feat_reduced_falt.shape"
   ]
  },
  {
   "cell_type": "markdown",
   "metadata": {},
   "source": [
    "Extract statistical features from fault data using TSFRESH"
   ]
  },
  {
   "cell_type": "code",
   "execution_count": 9,
   "metadata": {},
   "outputs": [],
   "source": [
    "def rolling_window(array, window=(0,), asteps=None, wsteps=None, axes=None, toend=True):\n",
    "    \"\"\"Create a view of `array` which for every point gives the n-dimensional\n",
    "    neighbourhood of size window. New dimensions are added at the end of\n",
    "    `array` or after the corresponding original dimension.\n",
    "    \n",
    "    Parameters\n",
    "    ----------\n",
    "    array : array_like\n",
    "        Array to which the rolling window is applied.\n",
    "    window : int or tuple\n",
    "        Either a single integer to create a window of only the last axis or a\n",
    "        tuple to create it for the last len(window) axes. 0 can be used as a\n",
    "        to ignore a dimension in the window.\n",
    "    asteps : tuple\n",
    "        Aligned at the last axis, new steps for the original array, ie. for\n",
    "        creation of non-overlapping windows. (Equivalent to slicing result)\n",
    "    wsteps : int or tuple (same size as window)\n",
    "        steps for the added window dimensions. These can be 0 to repeat values\n",
    "        along the axis.\n",
    "    axes: int or tuple\n",
    "        If given, must have the same size as window. In this case window is\n",
    "        interpreted as the size in the dimension given by axes. IE. a window\n",
    "        of (2, 1) is equivalent to window=2 and axis=-2.       \n",
    "    toend : bool\n",
    "        If False, the new dimensions are right after the corresponding original\n",
    "        dimension, instead of at the end of the array. Adding the new axes at the\n",
    "        end makes it easier to get the neighborhood, however toend=False will give\n",
    "        a more intuitive result if you view the whole array.\n",
    "    \n",
    "    Returns\n",
    "    -------\n",
    "    A view on `array` which is smaller to fit the windows and has windows added\n",
    "    dimensions (0s not counting), ie. every point of `array` is an array of size\n",
    "    window.\n",
    "    \n",
    "    Examples\n",
    "    --------\n",
    "    >>> a = np.arange(9).reshape(3,3)\n",
    "    >>> rolling_window(a, (2,2))\n",
    "    array([[[[0, 1],\n",
    "             [3, 4]],\n",
    "\n",
    "            [[1, 2],\n",
    "             [4, 5]]],\n",
    "\n",
    "\n",
    "           [[[3, 4],\n",
    "             [6, 7]],\n",
    "\n",
    "            [[4, 5],\n",
    "             [7, 8]]]])\n",
    "    \n",
    "    Or to create non-overlapping windows, but only along the first dimension:\n",
    "    >>> rolling_window(a, (2,0), asteps=(2,1))\n",
    "    array([[[0, 3],\n",
    "            [1, 4],\n",
    "            [2, 5]]])\n",
    "    \n",
    "    Note that the 0 is discared, so that the output dimension is 3:\n",
    "    >>> rolling_window(a, (2,0), asteps=(2,1)).shape\n",
    "    (1, 3, 2)\n",
    "    \n",
    "    This is useful for example to calculate the maximum in all (overlapping)\n",
    "    2x2 submatrixes:\n",
    "    >>> rolling_window(a, (2,2)).max((2,3))\n",
    "    array([[4, 5],\n",
    "           [7, 8]])\n",
    "           \n",
    "    Or delay embedding (3D embedding with delay 2):\n",
    "    >>> x = np.arange(10)\n",
    "    >>> rolling_window(x, 3, wsteps=2)\n",
    "    array([[0, 2, 4],\n",
    "           [1, 3, 5],\n",
    "           [2, 4, 6],\n",
    "           [3, 5, 7],\n",
    "           [4, 6, 8],\n",
    "           [5, 7, 9]])\n",
    "    \"\"\"\n",
    "    array = np.asarray(array)\n",
    "    orig_shape = np.asarray(array.shape)\n",
    "    window = np.atleast_1d(window).astype(int) # maybe crude to cast to int...\n",
    "    \n",
    "    if axes is not None:\n",
    "        axes = np.atleast_1d(axes)\n",
    "        w = np.zeros(array.ndim, dtype=int)\n",
    "        for axis, size in zip(axes, window):\n",
    "            w[axis] = size\n",
    "        window = w\n",
    "    \n",
    "    # Check if window is legal:\n",
    "    if window.ndim > 1:\n",
    "        raise ValueError(\"`window` must be one-dimensional.\")\n",
    "    if np.any(window < 0):\n",
    "        raise ValueError(\"All elements of `window` must be larger then 1.\")\n",
    "    if len(array.shape) < len(window):\n",
    "        raise ValueError(\"`window` length must be less or equal `array` dimension.\") \n",
    "\n",
    "    _asteps = np.ones_like(orig_shape)\n",
    "    if asteps is not None:\n",
    "        asteps = np.atleast_1d(asteps)\n",
    "        if asteps.ndim != 1:\n",
    "            raise ValueError(\"`asteps` must be either a scalar or one dimensional.\")\n",
    "        if len(asteps) > array.ndim:\n",
    "            raise ValueError(\"`asteps` cannot be longer then the `array` dimension.\")\n",
    "        # does not enforce alignment, so that steps can be same as window too.\n",
    "        _asteps[-len(asteps):] = asteps\n",
    "        \n",
    "        if np.any(asteps < 1):\n",
    "             raise ValueError(\"All elements of `asteps` must be larger then 1.\")\n",
    "    asteps = _asteps\n",
    "    \n",
    "    _wsteps = np.ones_like(window)\n",
    "    if wsteps is not None:\n",
    "        wsteps = np.atleast_1d(wsteps)\n",
    "        if wsteps.shape != window.shape:\n",
    "            raise ValueError(\"`wsteps` must have the same shape as `window`.\")\n",
    "        if np.any(wsteps < 0):\n",
    "             raise ValueError(\"All elements of `wsteps` must be larger then 0.\")\n",
    "\n",
    "        _wsteps[:] = wsteps\n",
    "        _wsteps[window == 0] = 1 # make sure that steps are 1 for non-existing dims.\n",
    "    wsteps = _wsteps\n",
    "\n",
    "    # Check that the window would not be larger then the original:\n",
    "    if np.any(orig_shape[-len(window):] < window * wsteps):\n",
    "        raise ValueError(\"`window` * `wsteps` larger then `array` in at least one dimension.\")\n",
    "\n",
    "    new_shape = orig_shape # just renaming...\n",
    "    \n",
    "    # For calculating the new shape 0s must act like 1s:\n",
    "    _window = window.copy()\n",
    "    _window[_window==0] = 1\n",
    "    \n",
    "    new_shape[-len(window):] += wsteps - _window * wsteps\n",
    "    new_shape = (new_shape + asteps - 1) // asteps\n",
    "    # make sure the new_shape is at least 1 in any \"old\" dimension (ie. steps\n",
    "    # is (too) large, but we do not care.\n",
    "    new_shape[new_shape < 1] = 1\n",
    "    shape = new_shape\n",
    "    \n",
    "    strides = np.asarray(array.strides)\n",
    "    strides *= asteps\n",
    "    new_strides = array.strides[-len(window):] * wsteps\n",
    "    \n",
    "    # The full new shape and strides:\n",
    "    if toend:\n",
    "        new_shape = np.concatenate((shape, window))\n",
    "        new_strides = np.concatenate((strides, new_strides))\n",
    "    else:\n",
    "        _ = np.zeros_like(shape)\n",
    "        _[-len(window):] = window\n",
    "        _window = _.copy()\n",
    "        _[-len(window):] = new_strides\n",
    "        _new_strides = _\n",
    "        \n",
    "        new_shape = np.zeros(len(shape)*2, dtype=int)\n",
    "        new_strides = np.zeros(len(shape)*2, dtype=int)\n",
    "        \n",
    "        new_shape[::2] = shape\n",
    "        new_strides[::2] = strides\n",
    "        new_shape[1::2] = _window\n",
    "        new_strides[1::2] = _new_strides\n",
    "    \n",
    "    new_strides = new_strides[new_shape != 0]\n",
    "    new_shape = new_shape[new_shape != 0]\n",
    "    \n",
    "    return np.lib.stride_tricks.as_strided(array, shape=new_shape, strides=new_strides)"
   ]
  },
  {
   "cell_type": "code",
   "execution_count": 10,
   "metadata": {},
   "outputs": [
    {
     "data": {
      "text/plain": [
       "array([[[[ 0,  1,  2,  3,  4],\n",
       "         [ 5,  6,  7,  8,  9]]],\n",
       "\n",
       "\n",
       "       [[[10, 11, 12, 13, 14],\n",
       "         [15, 16, 17, 18, 19]]]])"
      ]
     },
     "execution_count": 10,
     "metadata": {},
     "output_type": "execute_result"
    }
   ],
   "source": [
    "a = np.arange(25).reshape(5,5)\n",
    "rolling_window(a, (2,5), asteps=(2,5))"
   ]
  },
  {
   "cell_type": "code",
   "execution_count": 11,
   "metadata": {},
   "outputs": [],
   "source": [
    "windowed_data = rolling_window(frame_wTime.to_numpy(), (900,frame_wTime.shape[1]), asteps=(900,frame_wTime.shape[1]))"
   ]
  },
  {
   "cell_type": "code",
   "execution_count": null,
   "metadata": {},
   "outputs": [],
   "source": [
    "df_fc_p = MinimalFCParameters() # See tsfresh's documentation\n",
    "df_fc_p.pop('sum_values')       # Excludes inappropriate feature\n",
    "df_fc_p.pop('length')           # Excludes inappropriate feature\n",
    "\n",
    "tsfreshFeatures = []\n",
    "\n",
    "for i in range(np.shape(windowed_data)[0]):\n",
    "    windowed_frame = pd.DataFrame(windowed_data[i,0],columns=frame_wTime.columns)\n",
    "    windowed_frame.dropna()\n",
    "    extracted_features = extract_features(windowed_frame.drop(columns=['class']), column_id=\"id\", column_sort=\"timestamp\",default_fc_parameters=df_fc_p,impute_function=impute)\n",
    "    extracted_features\n",
    "    tsfreshFeatures.append(extracted_features.to_numpy())\n",
    "    \n"
   ]
  },
  {
   "cell_type": "code",
   "execution_count": 26,
   "metadata": {},
   "outputs": [
    {
     "data": {
      "text/plain": [
       "{'median': None,\n",
       " 'mean': None,\n",
       " 'standard_deviation': None,\n",
       " 'variance': None,\n",
       " 'root_mean_square': None,\n",
       " 'maximum': None,\n",
       " 'minimum': None}"
      ]
     },
     "execution_count": 26,
     "metadata": {},
     "output_type": "execute_result"
    }
   ],
   "source": [
    "df_fc_p"
   ]
  },
  {
   "cell_type": "code",
   "execution_count": 29,
   "metadata": {},
   "outputs": [
    {
     "data": {
      "text/html": [
       "<div>\n",
       "<style scoped>\n",
       "    .dataframe tbody tr th:only-of-type {\n",
       "        vertical-align: middle;\n",
       "    }\n",
       "\n",
       "    .dataframe tbody tr th {\n",
       "        vertical-align: top;\n",
       "    }\n",
       "\n",
       "    .dataframe thead th {\n",
       "        text-align: right;\n",
       "    }\n",
       "</style>\n",
       "<table border=\"1\" class=\"dataframe\">\n",
       "  <thead>\n",
       "    <tr style=\"text-align: right;\">\n",
       "      <th></th>\n",
       "      <th>P-PDG__median</th>\n",
       "      <th>P-PDG__mean</th>\n",
       "      <th>P-PDG__standard_deviation</th>\n",
       "      <th>P-PDG__variance</th>\n",
       "      <th>P-PDG__root_mean_square</th>\n",
       "      <th>P-PDG__maximum</th>\n",
       "      <th>P-PDG__minimum</th>\n",
       "      <th>P-TPT__median</th>\n",
       "      <th>P-TPT__mean</th>\n",
       "      <th>P-TPT__standard_deviation</th>\n",
       "      <th>...</th>\n",
       "      <th>P-MON-CKP__root_mean_square</th>\n",
       "      <th>P-MON-CKP__maximum</th>\n",
       "      <th>P-MON-CKP__minimum</th>\n",
       "      <th>T-JUS-CKP__median</th>\n",
       "      <th>T-JUS-CKP__mean</th>\n",
       "      <th>T-JUS-CKP__standard_deviation</th>\n",
       "      <th>T-JUS-CKP__variance</th>\n",
       "      <th>T-JUS-CKP__root_mean_square</th>\n",
       "      <th>T-JUS-CKP__maximum</th>\n",
       "      <th>T-JUS-CKP__minimum</th>\n",
       "    </tr>\n",
       "  </thead>\n",
       "  <tbody>\n",
       "    <tr>\n",
       "      <th>1</th>\n",
       "      <td>38265830.0</td>\n",
       "      <td>38265830.0</td>\n",
       "      <td>0.0</td>\n",
       "      <td>0.0</td>\n",
       "      <td>38265830.0</td>\n",
       "      <td>38265830.0</td>\n",
       "      <td>38265830.0</td>\n",
       "      <td>13718155.0</td>\n",
       "      <td>1.373093e+07</td>\n",
       "      <td>63457.874673</td>\n",
       "      <td>...</td>\n",
       "      <td>5.979314e+06</td>\n",
       "      <td>6051630.0</td>\n",
       "      <td>5924319.0</td>\n",
       "      <td>68.248745</td>\n",
       "      <td>68.303477</td>\n",
       "      <td>0.162053</td>\n",
       "      <td>0.026261</td>\n",
       "      <td>68.303669</td>\n",
       "      <td>68.64587</td>\n",
       "      <td>68.02305</td>\n",
       "    </tr>\n",
       "  </tbody>\n",
       "</table>\n",
       "<p>1 rows × 35 columns</p>\n",
       "</div>"
      ],
      "text/plain": [
       "   P-PDG__median  P-PDG__mean  P-PDG__standard_deviation  P-PDG__variance  \\\n",
       "1     38265830.0   38265830.0                        0.0              0.0   \n",
       "\n",
       "   P-PDG__root_mean_square  P-PDG__maximum  P-PDG__minimum  P-TPT__median  \\\n",
       "1               38265830.0      38265830.0      38265830.0     13718155.0   \n",
       "\n",
       "    P-TPT__mean  P-TPT__standard_deviation  ...  P-MON-CKP__root_mean_square  \\\n",
       "1  1.373093e+07               63457.874673  ...                 5.979314e+06   \n",
       "\n",
       "   P-MON-CKP__maximum  P-MON-CKP__minimum  T-JUS-CKP__median  T-JUS-CKP__mean  \\\n",
       "1           6051630.0           5924319.0          68.248745        68.303477   \n",
       "\n",
       "   T-JUS-CKP__standard_deviation  T-JUS-CKP__variance  \\\n",
       "1                       0.162053             0.026261   \n",
       "\n",
       "   T-JUS-CKP__root_mean_square  T-JUS-CKP__maximum  T-JUS-CKP__minimum  \n",
       "1                    68.303669            68.64587            68.02305  \n",
       "\n",
       "[1 rows x 35 columns]"
      ]
     },
     "execution_count": 29,
     "metadata": {},
     "output_type": "execute_result"
    }
   ],
   "source": [
    "extracted_features"
   ]
  },
  {
   "cell_type": "markdown",
   "metadata": {},
   "source": [
    "## 2. Leitura e tratamento de dados referentes a nominais:"
   ]
  },
  {
   "cell_type": "code",
   "execution_count": 47,
   "metadata": {},
   "outputs": [
    {
     "data": {
      "text/html": [
       "<div>\n",
       "<style scoped>\n",
       "    .dataframe tbody tr th:only-of-type {\n",
       "        vertical-align: middle;\n",
       "    }\n",
       "\n",
       "    .dataframe tbody tr th {\n",
       "        vertical-align: top;\n",
       "    }\n",
       "\n",
       "    .dataframe thead th {\n",
       "        text-align: right;\n",
       "    }\n",
       "</style>\n",
       "<table border=\"1\" class=\"dataframe\">\n",
       "  <thead>\n",
       "    <tr style=\"text-align: right;\">\n",
       "      <th></th>\n",
       "      <th>timestamp</th>\n",
       "      <th>P-PDG</th>\n",
       "      <th>P-TPT</th>\n",
       "      <th>T-TPT</th>\n",
       "      <th>P-MON-CKP</th>\n",
       "      <th>T-JUS-CKP</th>\n",
       "      <th>class</th>\n",
       "      <th>id</th>\n",
       "    </tr>\n",
       "  </thead>\n",
       "  <tbody>\n",
       "    <tr>\n",
       "      <th>0</th>\n",
       "      <td>2017-03-16 12:02:03.000000</td>\n",
       "      <td>38265830.0</td>\n",
       "      <td>13654450.0</td>\n",
       "      <td>117.1953</td>\n",
       "      <td>6029680.0</td>\n",
       "      <td>68.64587</td>\n",
       "      <td>4</td>\n",
       "      <td>1</td>\n",
       "    </tr>\n",
       "    <tr>\n",
       "      <th>1</th>\n",
       "      <td>2017-03-16 12:02:04.000000</td>\n",
       "      <td>38265830.0</td>\n",
       "      <td>13654520.0</td>\n",
       "      <td>117.1947</td>\n",
       "      <td>6030228.0</td>\n",
       "      <td>68.64333</td>\n",
       "      <td>4</td>\n",
       "      <td>1</td>\n",
       "    </tr>\n",
       "    <tr>\n",
       "      <th>2</th>\n",
       "      <td>2017-03-16 12:02:05.000000</td>\n",
       "      <td>38265830.0</td>\n",
       "      <td>13654580.0</td>\n",
       "      <td>117.1942</td>\n",
       "      <td>6030777.0</td>\n",
       "      <td>68.64080</td>\n",
       "      <td>4</td>\n",
       "      <td>1</td>\n",
       "    </tr>\n",
       "    <tr>\n",
       "      <th>3</th>\n",
       "      <td>2017-03-16 12:02:06.000000</td>\n",
       "      <td>38265830.0</td>\n",
       "      <td>13654650.0</td>\n",
       "      <td>117.1937</td>\n",
       "      <td>6031326.0</td>\n",
       "      <td>68.63827</td>\n",
       "      <td>4</td>\n",
       "      <td>1</td>\n",
       "    </tr>\n",
       "    <tr>\n",
       "      <th>4</th>\n",
       "      <td>2017-03-16 12:02:07.000000</td>\n",
       "      <td>38265830.0</td>\n",
       "      <td>13654710.0</td>\n",
       "      <td>117.1932</td>\n",
       "      <td>6031875.0</td>\n",
       "      <td>68.63573</td>\n",
       "      <td>4</td>\n",
       "      <td>1</td>\n",
       "    </tr>\n",
       "    <tr>\n",
       "      <th>...</th>\n",
       "      <td>...</td>\n",
       "      <td>...</td>\n",
       "      <td>...</td>\n",
       "      <td>...</td>\n",
       "      <td>...</td>\n",
       "      <td>...</td>\n",
       "      <td>...</td>\n",
       "      <td>...</td>\n",
       "    </tr>\n",
       "    <tr>\n",
       "      <th>9956786</th>\n",
       "      <td>2017-09-14 16:56:34.000000</td>\n",
       "      <td>25737530.0</td>\n",
       "      <td>13132670.0</td>\n",
       "      <td>109.5569</td>\n",
       "      <td>NaN</td>\n",
       "      <td>NaN</td>\n",
       "      <td>0</td>\n",
       "      <td>8</td>\n",
       "    </tr>\n",
       "    <tr>\n",
       "      <th>9956787</th>\n",
       "      <td>2017-09-14 16:56:35.000000</td>\n",
       "      <td>25737540.0</td>\n",
       "      <td>13132630.0</td>\n",
       "      <td>109.5562</td>\n",
       "      <td>NaN</td>\n",
       "      <td>NaN</td>\n",
       "      <td>0</td>\n",
       "      <td>8</td>\n",
       "    </tr>\n",
       "    <tr>\n",
       "      <th>9956788</th>\n",
       "      <td>2017-09-14 16:56:36.000000</td>\n",
       "      <td>25737540.0</td>\n",
       "      <td>13132580.0</td>\n",
       "      <td>109.5556</td>\n",
       "      <td>NaN</td>\n",
       "      <td>NaN</td>\n",
       "      <td>0</td>\n",
       "      <td>8</td>\n",
       "    </tr>\n",
       "    <tr>\n",
       "      <th>9956789</th>\n",
       "      <td>2017-09-14 16:56:37.000000</td>\n",
       "      <td>25737550.0</td>\n",
       "      <td>13132540.0</td>\n",
       "      <td>109.5549</td>\n",
       "      <td>NaN</td>\n",
       "      <td>NaN</td>\n",
       "      <td>0</td>\n",
       "      <td>8</td>\n",
       "    </tr>\n",
       "    <tr>\n",
       "      <th>9956790</th>\n",
       "      <td>2017-09-14 16:56:38.000000</td>\n",
       "      <td>25737540.0</td>\n",
       "      <td>13132440.0</td>\n",
       "      <td>109.5543</td>\n",
       "      <td>NaN</td>\n",
       "      <td>NaN</td>\n",
       "      <td>0</td>\n",
       "      <td>8</td>\n",
       "    </tr>\n",
       "  </tbody>\n",
       "</table>\n",
       "<p>12418867 rows × 8 columns</p>\n",
       "</div>"
      ],
      "text/plain": [
       "                          timestamp       P-PDG       P-TPT     T-TPT  \\\n",
       "0        2017-03-16 12:02:03.000000  38265830.0  13654450.0  117.1953   \n",
       "1        2017-03-16 12:02:04.000000  38265830.0  13654520.0  117.1947   \n",
       "2        2017-03-16 12:02:05.000000  38265830.0  13654580.0  117.1942   \n",
       "3        2017-03-16 12:02:06.000000  38265830.0  13654650.0  117.1937   \n",
       "4        2017-03-16 12:02:07.000000  38265830.0  13654710.0  117.1932   \n",
       "...                             ...         ...         ...       ...   \n",
       "9956786  2017-09-14 16:56:34.000000  25737530.0  13132670.0  109.5569   \n",
       "9956787  2017-09-14 16:56:35.000000  25737540.0  13132630.0  109.5562   \n",
       "9956788  2017-09-14 16:56:36.000000  25737540.0  13132580.0  109.5556   \n",
       "9956789  2017-09-14 16:56:37.000000  25737550.0  13132540.0  109.5549   \n",
       "9956790  2017-09-14 16:56:38.000000  25737540.0  13132440.0  109.5543   \n",
       "\n",
       "         P-MON-CKP  T-JUS-CKP  class  id  \n",
       "0        6029680.0   68.64587      4   1  \n",
       "1        6030228.0   68.64333      4   1  \n",
       "2        6030777.0   68.64080      4   1  \n",
       "3        6031326.0   68.63827      4   1  \n",
       "4        6031875.0   68.63573      4   1  \n",
       "...            ...        ...    ...  ..  \n",
       "9956786        NaN        NaN      0   8  \n",
       "9956787        NaN        NaN      0   8  \n",
       "9956788        NaN        NaN      0   8  \n",
       "9956789        NaN        NaN      0   8  \n",
       "9956790        NaN        NaN      0   8  \n",
       "\n",
       "[12418867 rows x 8 columns]"
      ]
     },
     "execution_count": 47,
     "metadata": {},
     "output_type": "execute_result"
    }
   ],
   "source": [
    "path = r'3W\\0' # use your path 3W\\4\n",
    "all_files = glob.glob(path + \"/*.csv\")\n",
    "\n",
    "le = {}\n",
    "li = {}\n",
    "c = 0\n",
    "for filename in all_files:\n",
    "    df = pd.read_csv(filename, index_col=None, header = 0)\n",
    "    li[c] = df.drop(columns = ['timestamp','QGL','T-JUS-CKGL'])\n",
    "\n",
    "    word = \"WELL-\"\n",
    "    start_index=filename.index(word)\n",
    "    wellNo= filename[start_index+5:start_index+10]\n",
    "    df['id'] = wellNo\n",
    "    df['id'] = pd.to_numeric(df['id'])\n",
    "    df.head\n",
    "    le[c] = df.drop(columns = ['QGL','T-JUS-CKGL','P-JUS-CKGL'])\n",
    "\n",
    "    c += 1\n",
    "\n",
    "frame = pd.concat(li, axis=0, ignore_index=True)\n",
    "frame_wTime = pd.concat(le, axis=0, ignore_index=True)\n"
   ]
  },
  {
   "cell_type": "code",
   "execution_count": 17,
   "metadata": {},
   "outputs": [
    {
     "data": {
      "text/plain": [
       "False"
      ]
     },
     "execution_count": 17,
     "metadata": {},
     "output_type": "execute_result"
    }
   ],
   "source": [
    "frame_wTime['timestamp'] = pd.to_datetime(frame_wTime['timestamp'])\n"
   ]
  },
  {
   "cell_type": "code",
   "execution_count": 48,
   "metadata": {},
   "outputs": [
    {
     "name": "stderr",
     "output_type": "stream",
     "text": [
      "c:\\Users\\rodri\\anaconda3\\lib\\site-packages\\statsmodels\\tsa\\ar_model.py:248: FutureWarning: The parameter names will change after 0.12 is released. Set old_names to False to use the new names now. Set old_names to True to use the old names. \n",
      "  warnings.warn(\n"
     ]
    }
   ],
   "source": [
    "dados = li # dicionário \n",
    "Feat = []\n",
    "lags = 30\n",
    "for i in range(0, 150):\n",
    "# for i in range(0, 2):\n",
    "    ch = dados[i]\n",
    "    chss = []\n",
    "    ch1 = AutoReg(ch[ch.columns[0]].values,lags = lags).fit()\n",
    "    ch2 = AutoReg(ch[ch.columns[1]].values,lags = lags).fit()\n",
    "    ch3 = AutoReg(ch[ch.columns[2]].values,lags = lags).fit()\n",
    "    ch4 = AutoReg(ch[ch.columns[3]].values,lags = lags).fit()\n",
    "    # ch5 = AutoReg(ch[ch.columns[4]].values,lags = lags).fit()\n",
    "    # ch6 = AutoReg(ch[ch.columns[5]].values,lags = lags).fit()        \n",
    "    ar_models = np.concatenate([ch1.params, ch2.params, ch3.params,\n",
    "                                ch4.params])#, ch5.params, ch6.params])\n",
    "    Feat.append(ar_models)\n",
    "    \n",
    "# Só foi até o 149 -> apareceu nan's!!!\n",
    "        "
   ]
  },
  {
   "cell_type": "code",
   "execution_count": 49,
   "metadata": {},
   "outputs": [
    {
     "data": {
      "text/plain": [
       "Text(0.5, 0, 'n_components')"
      ]
     },
     "execution_count": 49,
     "metadata": {},
     "output_type": "execute_result"
    },
    {
     "data": {
      "image/png": "[encoded data removed]",
      "text/plain": [
       "<Figure size 432x432 with 1 Axes>"
      ]
     },
     "metadata": {
      "needs_background": "light"
     },
     "output_type": "display_data"
    }
   ],
   "source": [
    "from sklearn.decomposition import PCA\n",
    "pca = PCA()\n",
    "pca.fit(Feat)\n",
    "\n",
    "# Plot the PCA spectrum\n",
    "fig, ax0 = plt.subplots(nrows=1, sharex=True, figsize=(6, 6))\n",
    "\n",
    "ax0.plot(\n",
    "    np.arange(1, pca.n_components_ + 1), pca.explained_variance_ratio_, \".\", linewidth=2\n",
    ")\n",
    "ax0.set_ylabel(\"PCA explained variance ratio\")\n",
    "ax0.set_xlabel(\"n_components\")"
   ]
  },
  {
   "cell_type": "code",
   "execution_count": 50,
   "metadata": {},
   "outputs": [
    {
     "data": {
      "text/plain": [
       "(150, 3)"
      ]
     },
     "execution_count": 50,
     "metadata": {},
     "output_type": "execute_result"
    }
   ],
   "source": [
    "pca = PCA(n_components = 3)\n",
    "Feat_reduced_nom = pca.fit_transform(Feat)\n",
    "Feat_reduced_nom.shape"
   ]
  },
  {
   "cell_type": "code",
   "execution_count": 51,
   "metadata": {},
   "outputs": [
    {
     "data": {
      "text/plain": [
       "array([[14052.01220473,  -760.25305108,   141.15517884,     0.        ],\n",
       "       [15105.01348139,  -628.22013297,    42.33648292,     0.        ]])"
      ]
     },
     "execution_count": 51,
     "metadata": {},
     "output_type": "execute_result"
    }
   ],
   "source": [
    "# Adicionando classes de dados ao dataset:\n",
    "classe_falt = np.ones(shape = (149,1))\n",
    "classe_nom = np.zeros(shape = (150,1))\n",
    "\n",
    "d1 = np.concatenate((Feat_reduced_nom, classe_nom), axis=1)\n",
    "d2 = np.concatenate((Feat_reduced_falt, classe_falt), axis=1)\n",
    "Dados = np.concatenate((d1,d2), axis = 0)\n",
    "Dados[:2,:]"
   ]
  },
  {
   "cell_type": "code",
   "execution_count": 52,
   "metadata": {},
   "outputs": [
    {
     "data": {
      "text/plain": [
       "<matplotlib.legend.Legend at 0x2010bc63a30>"
      ]
     },
     "execution_count": 52,
     "metadata": {},
     "output_type": "execute_result"
    },
    {
     "data": {
      "image/png": "[encoded data removed]",
      "text/plain": [
       "<Figure size 576x432 with 1 Axes>"
      ]
     },
     "metadata": {
      "needs_background": "light"
     },
     "output_type": "display_data"
    }
   ],
   "source": [
    "fig = plt.figure(figsize=(8,6))\n",
    "ax = fig.add_subplot()\n",
    "ax.scatter(Feat_reduced_nom[:,0], Feat_reduced_nom[:,1],  label = 'nominal')\n",
    "ax.scatter(Feat_reduced_falt[:,0],Feat_reduced_falt[:,1], label = 'falt')\n",
    "ax.set_xlabel('First components')\n",
    "# ax.set_xticks(range(0,50000))\n",
    "ax.set_ylabel('Second components')\n",
    "fig.legend()"
   ]
  },
  {
   "cell_type": "code",
   "execution_count": 53,
   "metadata": {},
   "outputs": [
    {
     "name": "stderr",
     "output_type": "stream",
     "text": [
      "C:\\Users\\rodri\\AppData\\Local\\Temp/ipykernel_14512/2344134444.py:4: MatplotlibDeprecationWarning: Axes3D(fig) adding itself to the figure is deprecated since 3.4. Pass the keyword argument auto_add_to_figure=False and use fig.add_axes(ax) to suppress this warning. The default value of auto_add_to_figure will change to False in mpl3.5 and True values will no longer work in 3.6.  This is consistent with other Axes classes.\n",
      "  ax = Axes3D(fig, rect=[0, 0, 0.95, 1], elev=48)\n"
     ]
    },
    {
     "data": {
      "image/png": "[encoded data removed]",
      "text/plain": [
       "<Figure size 360x360 with 1 Axes>"
      ]
     },
     "metadata": {
      "needs_background": "light"
     },
     "output_type": "display_data"
    }
   ],
   "source": [
    "from mpl_toolkits.mplot3d import Axes3D\n",
    "fig = plt.figure(1, figsize=(5, 5))\n",
    "\n",
    "ax = Axes3D(fig, rect=[0, 0, 0.95, 1], elev=48)\n",
    "ax.scatter(Feat_reduced_nom[:, 0], Feat_reduced_nom[:, 1], Feat_reduced_nom[:, 2], label = 'nominal', edgecolor=\"k\")\n",
    "ax.scatter(Feat_reduced_falt[0:, 0], Feat_reduced_falt[:, 1], Feat_reduced_falt[:, 2], label = 'fault', edgecolor=\"k\")\n",
    "ax.set_xlabel(\"PC1\")\n",
    "ax.set_ylabel(\"PC2\")\n",
    "ax.set_zlabel(\"PC3\")\n",
    "ax.set_title(\"Prediction\")\n",
    "ax.set_xlim(-8000, 5000)\n",
    "ax.view_init(30, 50)"
   ]
  },
  {
   "cell_type": "markdown",
   "metadata": {},
   "source": [
    "Extract statistical features from nominal data using TSFRESH"
   ]
  },
  {
   "cell_type": "code",
   "execution_count": null,
   "metadata": {},
   "outputs": [],
   "source": [
    "windowed_data = rolling_window(frame_wTime.to_numpy(), (900,frame_wTime.shape[1]), asteps=(900,frame_wTime.shape[1]))"
   ]
  },
  {
   "cell_type": "code",
   "execution_count": null,
   "metadata": {},
   "outputs": [],
   "source": [
    "df_fc_p = MinimalFCParameters() # See tsfresh's documentation\n",
    "df_fc_p.pop('sum_values')       # Excludes inappropriate feature\n",
    "df_fc_p.pop('length')           # Excludes inappropriate feature\n",
    "\n",
    "tsfreshFeatures = []\n",
    "\n",
    "for i in range(np.shape(windowed_data)[0]):\n",
    "    windowed_frame = pd.DataFrame(windowed_data[i,0],columns=frame_wTime.columns)\n",
    "    windowed_frame.dropna()\n",
    "    extracted_features = extract_features(windowed_frame.drop(columns=['class']), column_id=\"id\", column_sort=\"timestamp\",default_fc_parameters=df_fc_p,impute_function=impute)\n",
    "    extracted_features\n",
    "    tsfreshFeatures.append(extracted_features.to_numpy())"
   ]
  },
  {
   "cell_type": "markdown",
   "metadata": {},
   "source": [
    "## 3. Modelo de aprendizado de máquina:"
   ]
  },
  {
   "cell_type": "code",
   "execution_count": 54,
   "metadata": {},
   "outputs": [],
   "source": [
    "from sklearn import preprocessing\n",
    "from sklearn.metrics import confusion_matrix, accuracy_score \n",
    "from sklearn.model_selection import train_test_split\n",
    "from sklearn import linear_model"
   ]
  },
  {
   "cell_type": "code",
   "execution_count": 55,
   "metadata": {},
   "outputs": [],
   "source": [
    "def plot_confusion_matrix(cm,\n",
    "                          target_names,\n",
    "                          title='Confusion matrix',\n",
    "                          cmap=None,\n",
    "                          normalize=False):\n",
    "    \"\"\"\n",
    "    given a sklearn confusion matrix (cm), make a nice plot\n",
    "\n",
    "    Arguments\n",
    "    ---------\n",
    "    cm:           confusion matrix from sklearn.metrics.confusion_matrix\n",
    "\n",
    "    target_names: given classification classes such as [0, 1, 2]\n",
    "                  the class names, for example: ['high', 'medium', 'low']\n",
    "\n",
    "    title:        the text to display at the top of the matrix\n",
    "\n",
    "    cmap:         the gradient of the values displayed from matplotlib.pyplot.cm\n",
    "                  see http://matplotlib.org/examples/color/colormaps_reference.html\n",
    "                  plt.get_cmap('jet') or plt.cm.Blues\n",
    "\n",
    "    normalize:    If False, plot the raw numbers\n",
    "                  If True, plot the proportions\n",
    "\n",
    "    Usage\n",
    "    -----\n",
    "    plot_confusion_matrix(cm           = cm,                  # confusion matrix created by\n",
    "                                                              # sklearn.metrics.confusion_matrix\n",
    "                          normalize    = True,                # show proportions\n",
    "                          target_names = y_labels_vals,       # list of names of the classes\n",
    "                          title        = best_estimator_name) # title of graph\n",
    "\n",
    "    Citiation\n",
    "    ---------\n",
    "    http://scikit-learn.org/stable/auto_examples/model_selection/plot_confusion_matrix.html\n",
    "\n",
    "    \"\"\"\n",
    "    import matplotlib.pyplot as plt\n",
    "    import numpy as np\n",
    "    import itertools\n",
    "\n",
    "    accuracy = np.trace(cm) / np.sum(cm).astype('float')\n",
    "    misclass = 1 - accuracy\n",
    "\n",
    "    if cmap is None:\n",
    "        cmap = plt.get_cmap('Blues')\n",
    "\n",
    "    plt.figure(figsize=(8, 6))\n",
    "    plt.imshow(cm, interpolation='nearest', cmap=cmap)\n",
    "    plt.title(title)\n",
    "    plt.colorbar()\n",
    "\n",
    "    if target_names is not None:\n",
    "        tick_marks = np.arange(len(target_names))\n",
    "        plt.xticks(tick_marks, target_names, rotation=45)\n",
    "        plt.yticks(tick_marks, target_names)\n",
    "\n",
    "    if normalize:\n",
    "        cm = cm.astype('float') / cm.sum(axis=1)[:, np.newaxis]\n",
    "\n",
    "\n",
    "    thresh = cm.max() / 1.5 if normalize else cm.max() / 2\n",
    "    for i, j in itertools.product(range(cm.shape[0]), range(cm.shape[1])):\n",
    "        if normalize:\n",
    "            plt.text(j, i, \"{:0.4f}\".format(cm[i, j]),\n",
    "                     horizontalalignment=\"center\",\n",
    "                     color=\"white\" if cm[i, j] > thresh else \"black\")\n",
    "        else:\n",
    "            plt.text(j, i, \"{:,}\".format(cm[i, j]),\n",
    "                     horizontalalignment=\"center\",\n",
    "                     color=\"white\" if cm[i, j] > thresh else \"black\")\n",
    "\n",
    "\n",
    "    plt.tight_layout()\n",
    "    plt.ylabel('True label')\n",
    "    plt.xlabel('Predicted label\\naccuracy={:0.4f}; misclass={:0.4f}'.format(accuracy, misclass))\n",
    "    plt.show()"
   ]
  },
  {
   "cell_type": "markdown",
   "metadata": {},
   "source": [
    "### a) SVM"
   ]
  },
  {
   "cell_type": "code",
   "execution_count": 56,
   "metadata": {},
   "outputs": [
    {
     "name": "stderr",
     "output_type": "stream",
     "text": [
      "c:\\Users\\rodri\\anaconda3\\lib\\site-packages\\sklearn\\svm\\_base.py:985: ConvergenceWarning: Liblinear failed to converge, increase the number of iterations.\n",
      "  warnings.warn(\"Liblinear failed to converge, increase \"\n"
     ]
    },
    {
     "data": {
      "image/png": "[encoded data removed]",
      "text/plain": [
       "<Figure size 576x432 with 2 Axes>"
      ]
     },
     "metadata": {
      "needs_background": "light"
     },
     "output_type": "display_data"
    }
   ],
   "source": [
    "from sklearn.svm import LinearSVC\n",
    "\n",
    "standart_scaler = preprocessing.StandardScaler()\n",
    "Feat_scaler = standart_scaler.fit_transform(Dados[:,:3])\n",
    "Y = Dados[:,-1]\n",
    "\n",
    "x_train, x_test, y_train, y_test = train_test_split(Feat_scaler, Y, test_size = 0.2, random_state = 0 )\n",
    "modelo_svc = LinearSVC(C = 1, loss = 'hinge', random_state = 42)\n",
    "modelo_svc.fit(x_train, y_train)\n",
    "\n",
    "y_pred = modelo_svc.predict(x_test)\n",
    "\n",
    "cm = confusion_matrix(y_test, y_pred)\n",
    "\n",
    "plot_confusion_matrix(cm, target_names = range(0,1))"
   ]
  },
  {
   "cell_type": "code",
   "execution_count": 57,
   "metadata": {},
   "outputs": [],
   "source": [
    "from sklearn.svm import LinearSVC, SVC\n",
    "from sklearn.model_selection import RandomizedSearchCV\n",
    "import scipy.stats as stats\n",
    "from sklearn.model_selection import RepeatedKFold"
   ]
  },
  {
   "cell_type": "code",
   "execution_count": 58,
   "metadata": {},
   "outputs": [
    {
     "name": "stderr",
     "output_type": "stream",
     "text": [
      "c:\\Users\\rodri\\anaconda3\\lib\\site-packages\\sklearn\\model_selection\\_search.py:922: UserWarning: One or more of the test scores are non-finite: [        nan -0.4556578  -0.47457447         nan -0.45742553 -0.45538652\n",
      " -0.4555922  -0.46084574 -0.46274468         nan -0.45252482         nan\n",
      "         nan -0.45578901         nan         nan -0.45683333         nan\n",
      "         nan         nan         nan         nan -0.45946631         nan\n",
      "         nan -0.46188298         nan         nan         nan         nan\n",
      "         nan -0.45656915         nan -0.46450532 -0.46909929         nan\n",
      " -0.46127837         nan         nan -0.45301596         nan         nan\n",
      " -0.46032092 -0.4563883  -0.45509397 -0.46116135 -0.45728191         nan\n",
      " -0.46446454         nan         nan -0.45933156         nan         nan\n",
      "         nan         nan -0.46067376         nan         nan -0.45469326\n",
      "         nan -0.45188121 -0.47090957         nan         nan -0.45525709\n",
      "         nan -0.4512039          nan -0.46861525         nan -0.45906028\n",
      " -0.45691312 -0.4741117  -0.46571277         nan         nan -0.45657801\n",
      " -0.46485461 -0.45459752 -0.47244326 -0.46118085 -0.44903901         nan\n",
      "         nan         nan -0.45632801 -0.46994149         nan         nan\n",
      " -0.47157801 -0.46265603         nan         nan -0.45138121 -0.45590603\n",
      " -0.46655319 -0.45853369         nan -0.45117553]\n",
      "  warnings.warn(\n",
      "c:\\Users\\rodri\\anaconda3\\lib\\site-packages\\sklearn\\svm\\_base.py:985: ConvergenceWarning: Liblinear failed to converge, increase the number of iterations.\n",
      "  warnings.warn(\"Liblinear failed to converge, increase \"\n"
     ]
    },
    {
     "data": {
      "image/png": "[encoded data removed]",
      "text/plain": [
       "<Figure size 576x432 with 2 Axes>"
      ]
     },
     "metadata": {
      "needs_background": "light"
     },
     "output_type": "display_data"
    }
   ],
   "source": [
    "rkf = RepeatedKFold(n_splits = 5, n_repeats = 50, random_state = 42)\n",
    "rkf.split(x_train, y_train)\n",
    "\n",
    "# Randomized Search\n",
    "rand_parameters = [{'C':range(1,100), 'loss':['hinge', 'square_hinge']}]\n",
    "modelo_svc = LinearSVC() \n",
    "random_search_svm = RandomizedSearchCV(modelo_svc, rand_parameters, verbose = 0, n_iter = 100,\n",
    "                                       n_jobs = -1, cv = rkf, scoring = 'neg_mean_squared_error', random_state=42)\n",
    "random_search_svm.fit(x_train, y_train)\n",
    "BPSVC = random_search_svm.best_params_\n",
    "\n",
    "yh = random_search_svm.predict(x_test)\n",
    "\n",
    "cm = confusion_matrix(y_test, yh)\n",
    "\n",
    "plot_confusion_matrix(cm, target_names = range(0,1))"
   ]
  },
  {
   "cell_type": "code",
   "execution_count": 59,
   "metadata": {},
   "outputs": [
    {
     "name": "stderr",
     "output_type": "stream",
     "text": [
      "c:\\Users\\rodri\\anaconda3\\lib\\site-packages\\sklearn\\svm\\_base.py:985: ConvergenceWarning: Liblinear failed to converge, increase the number of iterations.\n",
      "  warnings.warn(\"Liblinear failed to converge, increase \"\n"
     ]
    },
    {
     "data": {
      "image/png": "[encoded data removed]",
      "text/plain": [
       "<Figure size 576x432 with 2 Axes>"
      ]
     },
     "metadata": {
      "needs_background": "light"
     },
     "output_type": "display_data"
    }
   ],
   "source": [
    "x_train, x_test, y_train, y_test = train_test_split(Feat_scaler, Y, test_size = 0.2, random_state = 0 )\n",
    "modelo_svc = LinearSVC(C = 67, loss = 'hinge', random_state = 42)\n",
    "modelo_svc.fit(x_train, y_train)\n",
    "\n",
    "y_pred = modelo_svc.predict(x_test)\n",
    "\n",
    "cm = confusion_matrix(y_test, y_pred)\n",
    "\n",
    "plot_confusion_matrix(cm, target_names = range(0,1))"
   ]
  },
  {
   "cell_type": "markdown",
   "metadata": {},
   "source": [
    "#### Truque do Kernel"
   ]
  },
  {
   "cell_type": "markdown",
   "metadata": {},
   "source": [
    "##### a. Kernel polinomial:"
   ]
  },
  {
   "cell_type": "code",
   "execution_count": 60,
   "metadata": {},
   "outputs": [
    {
     "data": {
      "image/png": "[encoded data removed]",
      "text/plain": [
       "<Figure size 576x432 with 2 Axes>"
      ]
     },
     "metadata": {
      "needs_background": "light"
     },
     "output_type": "display_data"
    }
   ],
   "source": [
    "modelo_svc = SVC(C = 63, kernel = 'poly', degree = 2, random_state = 42)\n",
    "modelo_svc.fit(x_train, y_train)\n",
    "\n",
    "y_pred = modelo_svc.predict(x_test)\n",
    "\n",
    "cm = confusion_matrix(y_test, y_pred)\n",
    "\n",
    "plot_confusion_matrix(cm, target_names = range(0,1))"
   ]
  },
  {
   "cell_type": "markdown",
   "metadata": {},
   "source": [
    "##### a. Kernel Gaussiano:"
   ]
  },
  {
   "cell_type": "code",
   "execution_count": 61,
   "metadata": {},
   "outputs": [
    {
     "data": {
      "image/png": "[encoded data removed]",
      "text/plain": [
       "<Figure size 576x432 with 2 Axes>"
      ]
     },
     "metadata": {
      "needs_background": "light"
     },
     "output_type": "display_data"
    }
   ],
   "source": [
    "modelo_svc = SVC(C = 63, kernel = 'rbf', gamma = 5, random_state = 42)\n",
    "modelo_svc.fit(x_train, y_train)\n",
    "\n",
    "y_pred = modelo_svc.predict(x_test)\n",
    "\n",
    "cm = confusion_matrix(y_test, y_pred)\n",
    "\n",
    "plot_confusion_matrix(cm, target_names = range(0,1))"
   ]
  },
  {
   "cell_type": "markdown",
   "metadata": {},
   "source": [
    "### b) Random Forest"
   ]
  },
  {
   "cell_type": "code",
   "execution_count": 62,
   "metadata": {},
   "outputs": [
    {
     "data": {
      "image/png": "[encoded data removed]",
      "text/plain": [
       "<Figure size 576x432 with 2 Axes>"
      ]
     },
     "metadata": {
      "needs_background": "light"
     },
     "output_type": "display_data"
    }
   ],
   "source": [
    "from scipy.stats import randint,uniform\n",
    "from sklearn.tree import DecisionTreeClassifier\n",
    "from sklearn.ensemble import RandomForestClassifier\n",
    "rfc = RandomForestClassifier(n_estimators = 500, n_jobs= -1)\n",
    "rfc.fit(x_train, y_train)\n",
    "y_pred = rfc.predict(x_test)\n",
    "\n",
    "plot_confusion_matrix(confusion_matrix(y_test,y_pred), target_names= range(0,1))"
   ]
  },
  {
   "cell_type": "code",
   "execution_count": 151,
   "metadata": {},
   "outputs": [
    {
     "name": "stdout",
     "output_type": "stream",
     "text": [
      "Fitting 3 folds for each of 100 candidates, totalling 300 fits\n"
     ]
    },
    {
     "data": {
      "text/plain": [
       "RandomizedSearchCV(cv=3, estimator=RandomForestClassifier(), n_iter=100,\n",
       "                   n_jobs=-1,\n",
       "                   param_distributions={'max_depth': [10, 20, 30, 40, 50, 60,\n",
       "                                                      70, 80, 90, 100, 110,\n",
       "                                                      None],\n",
       "                                        'min_samples_leaf': [1, 2, 4],\n",
       "                                        'min_samples_split': [2, 5, 10],\n",
       "                                        'n_estimators': [100, 200, 300, 400,\n",
       "                                                         500, 600, 700, 800,\n",
       "                                                         900, 1000]},\n",
       "                   random_state=42, verbose=2)"
      ]
     },
     "execution_count": 151,
     "metadata": {},
     "output_type": "execute_result"
    }
   ],
   "source": [
    "n_estimators = [int(x) for x in np.linspace(start = 100, stop = 1000, num = 10)]\n",
    "max_depth = [int(x) for x in np.linspace(10, 110, num = 11)]\n",
    "max_depth.append(None)\n",
    "min_samples_split = [2, 5, 10]\n",
    "# Minimum number of samples required at each leaf node\n",
    "min_samples_leaf = [1, 2, 4]\n",
    "# Create the random grid\n",
    "random_grid = {'n_estimators': n_estimators,\n",
    "               'max_depth': max_depth,\n",
    "               'min_samples_split': min_samples_split,\n",
    "               'min_samples_leaf': min_samples_leaf,\n",
    "            }\n",
    "\n",
    "\n",
    "# Use the random grid to search for best hyperparameters\n",
    "rf = RandomForestClassifier()\n",
    "rf_random = RandomizedSearchCV(estimator = rf, param_distributions = random_grid, \n",
    "                               n_iter = 100, cv = 3, verbose=2, random_state=42, n_jobs = -1)\n",
    "rf_random.fit(x_train, y_train)\n"
   ]
  },
  {
   "cell_type": "code",
   "execution_count": 156,
   "metadata": {},
   "outputs": [
    {
     "name": "stdout",
     "output_type": "stream",
     "text": [
      "Fitting 3 folds for each of 100 candidates, totalling 300 fits\n",
      "Fitting 3 folds for each of 100 candidates, totalling 300 fits\n",
      "Fitting 3 folds for each of 100 candidates, totalling 300 fits\n"
     ]
    }
   ],
   "source": [
    "from sklearn.model_selection import cross_val_score \n",
    "\n",
    "\n",
    "acc = cross_val_score(estimator=rf_random,X=x_train,y=y_train,cv=3)\n",
    "\n"
   ]
  },
  {
   "cell_type": "code",
   "execution_count": 157,
   "metadata": {},
   "outputs": [
    {
     "data": {
      "text/plain": [
       "array([1.        , 0.9625    , 0.98734177])"
      ]
     },
     "execution_count": 157,
     "metadata": {},
     "output_type": "execute_result"
    }
   ],
   "source": [
    "acc"
   ]
  },
  {
   "cell_type": "code",
   "execution_count": 152,
   "metadata": {},
   "outputs": [
    {
     "data": {
      "text/plain": [
       "{'n_estimators': 400,\n",
       " 'min_samples_split': 10,\n",
       " 'min_samples_leaf': 4,\n",
       " 'max_depth': 100}"
      ]
     },
     "execution_count": 152,
     "metadata": {},
     "output_type": "execute_result"
    }
   ],
   "source": [
    "rf_random.best_params_"
   ]
  },
  {
   "cell_type": "code",
   "execution_count": 153,
   "metadata": {},
   "outputs": [
    {
     "data": {
      "image/png": "[encoded data removed]",
      "text/plain": [
       "<Figure size 576x432 with 2 Axes>"
      ]
     },
     "metadata": {
      "needs_background": "light"
     },
     "output_type": "display_data"
    }
   ],
   "source": [
    "y_pred = rf_random.predict(x_test)\n",
    "\n",
    "plot_confusion_matrix(confusion_matrix(y_test,y_pred), target_names= range(0,1))"
   ]
  },
  {
   "cell_type": "markdown",
   "metadata": {},
   "source": [
    "# DISCUTIR E-MAIL DO HELON"
   ]
  },
  {
   "cell_type": "markdown",
   "metadata": {},
   "source": []
  }
 ],
 "metadata": {
  "interpreter": {
   "hash": "ba0e0878f037a4b8d61c21d480e8b70687b42399f772fc5aef6458a20c44edc8"
  },
  "kernelspec": {
   "display_name": "Python 3.8.10 64-bit",
   "language": "python",
   "name": "python3"
  },
  "language_info": {
   "codemirror_mode": {
    "name": "ipython",
    "version": 3
   },
   "file_extension": ".py",
   "mimetype": "text/x-python",
   "name": "python",
   "nbconvert_exporter": "python",
   "pygments_lexer": "ipython3",
   "version": "3.8.10"
  },
  "orig_nbformat": 4
 },
 "nbformat": 4,
 "nbformat_minor": 2
}
